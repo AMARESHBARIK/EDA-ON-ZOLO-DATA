{
 "cells": [
  {
   "cell_type": "code",
   "execution_count": 2,
   "id": "2d20f0e1-cee8-475b-8b16-7d9fe25eacfd",
   "metadata": {},
   "outputs": [],
   "source": [
    "import numpy as np\n",
    "import pandas as pd\n",
    "import seaborn as sns\n",
    "import matplotlib.pyplot as plt\n",
    "%matplotlib inline"
   ]
  },
  {
   "cell_type": "code",
   "execution_count": 105,
   "id": "da642ddd-63a2-4f95-8597-ec3dd5c8d973",
   "metadata": {},
   "outputs": [],
   "source": [
    "dfr=pd.read_csv('zolo-sample-data.csv')"
   ]
  },
  {
   "cell_type": "code",
   "execution_count": 106,
   "id": "00ec7993-4f19-4d16-b1bc-d5684d76f787",
   "metadata": {},
   "outputs": [
    {
     "data": {
      "text/plain": [
       "fields_data                object\n",
       "sf_last_modified_at         int64\n",
       "sf_created_at               int64\n",
       "website_text               object\n",
       "created_at                  int64\n",
       "zolo_lead_id               object\n",
       "sf_lead_company_website    object\n",
       "sf_lead_company_name       object\n",
       "sf_lead_id                 object\n",
       "sf_lead_name               object\n",
       "sf_lead_email              object\n",
       "id                          int64\n",
       "user_account_domain        object\n",
       "dtype: object"
      ]
     },
     "metadata": {},
     "output_type": "display_data"
    },
    {
     "data": {
      "text/plain": [
       "(10000, 13)"
      ]
     },
     "metadata": {},
     "output_type": "display_data"
    }
   ],
   "source": [
    "display(dfr.dtypes)\n",
    "display(dfr.shape)"
   ]
  },
  {
   "cell_type": "code",
   "execution_count": 107,
   "id": "6c180bee-c8ae-49c9-832d-b8157080b9cc",
   "metadata": {},
   "outputs": [
    {
     "data": {
      "text/plain": [
       "Index(['fields_data', 'sf_last_modified_at', 'sf_created_at', 'website_text',\n",
       "       'created_at', 'zolo_lead_id', 'sf_lead_company_website',\n",
       "       'sf_lead_company_name', 'sf_lead_id', 'sf_lead_name', 'sf_lead_email',\n",
       "       'id', 'user_account_domain'],\n",
       "      dtype='object')"
      ]
     },
     "execution_count": 107,
     "metadata": {},
     "output_type": "execute_result"
    }
   ],
   "source": [
    "dfr.columns"
   ]
  },
  {
   "cell_type": "code",
   "execution_count": 108,
   "id": "412fe963-14f8-4ce3-912d-0ae0b968196a",
   "metadata": {},
   "outputs": [
    {
     "data": {
      "text/html": [
       "<div>\n",
       "<style scoped>\n",
       "    .dataframe tbody tr th:only-of-type {\n",
       "        vertical-align: middle;\n",
       "    }\n",
       "\n",
       "    .dataframe tbody tr th {\n",
       "        vertical-align: top;\n",
       "    }\n",
       "\n",
       "    .dataframe thead th {\n",
       "        text-align: right;\n",
       "    }\n",
       "</style>\n",
       "<table border=\"1\" class=\"dataframe\">\n",
       "  <thead>\n",
       "    <tr style=\"text-align: right;\">\n",
       "      <th></th>\n",
       "      <th>sf_last_modified_at</th>\n",
       "      <th>sf_created_at</th>\n",
       "      <th>created_at</th>\n",
       "      <th>id</th>\n",
       "    </tr>\n",
       "  </thead>\n",
       "  <tbody>\n",
       "    <tr>\n",
       "      <th>sf_last_modified_at</th>\n",
       "      <td>1.000000</td>\n",
       "      <td>0.595415</td>\n",
       "      <td>0.226642</td>\n",
       "      <td>0.254725</td>\n",
       "    </tr>\n",
       "    <tr>\n",
       "      <th>sf_created_at</th>\n",
       "      <td>0.595415</td>\n",
       "      <td>1.000000</td>\n",
       "      <td>-0.077509</td>\n",
       "      <td>-0.043573</td>\n",
       "    </tr>\n",
       "    <tr>\n",
       "      <th>created_at</th>\n",
       "      <td>0.226642</td>\n",
       "      <td>-0.077509</td>\n",
       "      <td>1.000000</td>\n",
       "      <td>0.995719</td>\n",
       "    </tr>\n",
       "    <tr>\n",
       "      <th>id</th>\n",
       "      <td>0.254725</td>\n",
       "      <td>-0.043573</td>\n",
       "      <td>0.995719</td>\n",
       "      <td>1.000000</td>\n",
       "    </tr>\n",
       "  </tbody>\n",
       "</table>\n",
       "</div>"
      ],
      "text/plain": [
       "                     sf_last_modified_at  sf_created_at  created_at        id\n",
       "sf_last_modified_at             1.000000       0.595415    0.226642  0.254725\n",
       "sf_created_at                   0.595415       1.000000   -0.077509 -0.043573\n",
       "created_at                      0.226642      -0.077509    1.000000  0.995719\n",
       "id                              0.254725      -0.043573    0.995719  1.000000"
      ]
     },
     "metadata": {},
     "output_type": "display_data"
    }
   ],
   "source": [
    "display(dfr.corr())"
   ]
  },
  {
   "cell_type": "code",
   "execution_count": 109,
   "id": "b3aa4e3a-6678-49bc-a294-14dc03fd38d9",
   "metadata": {},
   "outputs": [
    {
     "data": {
      "text/plain": [
       "<AxesSubplot:>"
      ]
     },
     "execution_count": 109,
     "metadata": {},
     "output_type": "execute_result"
    },
    {
     "data": {
      "image/png": "[encoded data removed]",
      "text/plain": [
       "<Figure size 432x288 with 2 Axes>"
      ]
     },
     "metadata": {
      "needs_background": "light"
     },
     "output_type": "display_data"
    }
   ],
   "source": [
    "sns.heatmap(dfr.corr())"
   ]
  },
  {
   "cell_type": "code",
   "execution_count": 110,
   "id": "7bbd1789-97a6-45f5-b16f-177de0c33ea8",
   "metadata": {},
   "outputs": [
    {
     "data": {
      "text/plain": [
       "fields_data                   0\n",
       "sf_last_modified_at           0\n",
       "sf_created_at                 0\n",
       "website_text               1983\n",
       "created_at                    0\n",
       "zolo_lead_id               7022\n",
       "sf_lead_company_website    1982\n",
       "sf_lead_company_name          0\n",
       "sf_lead_id                    0\n",
       "sf_lead_name                  0\n",
       "sf_lead_email              3599\n",
       "id                            0\n",
       "user_account_domain           0\n",
       "dtype: int64"
      ]
     },
     "execution_count": 110,
     "metadata": {},
     "output_type": "execute_result"
    }
   ],
   "source": [
    "dfr.isnull().sum()"
   ]
  },
  {
   "cell_type": "code",
   "execution_count": 111,
   "id": "054c7adc-cf9e-4c4f-bcc7-9a52f11bbe70",
   "metadata": {},
   "outputs": [],
   "source": [
    "Fields_data=dfr['fields_data']"
   ]
  },
  {
   "cell_type": "code",
   "execution_count": 112,
   "id": "0ae96cae-3e23-49f7-9b1d-dd9975497f07",
   "metadata": {},
   "outputs": [
    {
     "data": {
      "text/plain": [
       "0       {\"AnnualRevenue\": \"\", \"City\": \"\", \"Company\": \"...\n",
       "1       {\"AnnualRevenue\": \"\", \"City\": \"\", \"Company\": \"...\n",
       "2       {\"AnnualRevenue\": \"\", \"City\": \"\", \"Company\": \"...\n",
       "3       {\"AnnualRevenue\": \"\", \"City\": \"\", \"Company\": \"...\n",
       "4       {\"AnnualRevenue\": \"\", \"City\": \"\", \"Company\": \"...\n",
       "                              ...                        \n",
       "9995    {\"AnnualRevenue\": \"\", \"City\": \"\", \"Company\": \"...\n",
       "9996    {\"AnnualRevenue\": \"\", \"City\": \"\", \"Company\": \"...\n",
       "9997    {\"AnnualRevenue\": \"\", \"City\": \"\", \"Company\": \"...\n",
       "9998    {\"AnnualRevenue\": \"\", \"City\": \"\", \"Company\": \"...\n",
       "9999    {\"AnnualRevenue\": \"\", \"City\": \"\", \"Company\": \"...\n",
       "Name: fields_data, Length: 10000, dtype: object"
      ]
     },
     "execution_count": 112,
     "metadata": {},
     "output_type": "execute_result"
    }
   ],
   "source": [
    "Fields_data"
   ]
  },
  {
   "cell_type": "code",
   "execution_count": 114,
   "id": "e324e1ee-adc9-4a11-9af0-47582b52a7d6",
   "metadata": {},
   "outputs": [
    {
     "data": {
      "text/html": [
       "<div>\n",
       "<style scoped>\n",
       "    .dataframe tbody tr th:only-of-type {\n",
       "        vertical-align: middle;\n",
       "    }\n",
       "\n",
       "    .dataframe tbody tr th {\n",
       "        vertical-align: top;\n",
       "    }\n",
       "\n",
       "    .dataframe thead th {\n",
       "        text-align: right;\n",
       "    }\n",
       "</style>\n",
       "<table border=\"1\" class=\"dataframe\">\n",
       "  <thead>\n",
       "    <tr style=\"text-align: right;\">\n",
       "      <th></th>\n",
       "      <th>sf_last_modified_at</th>\n",
       "      <th>sf_created_at</th>\n",
       "      <th>website_text</th>\n",
       "      <th>created_at</th>\n",
       "      <th>zolo_lead_id</th>\n",
       "      <th>sf_lead_company_website</th>\n",
       "      <th>sf_lead_company_name</th>\n",
       "      <th>sf_lead_id</th>\n",
       "      <th>sf_lead_name</th>\n",
       "      <th>sf_lead_email</th>\n",
       "      <th>id</th>\n",
       "      <th>user_account_domain</th>\n",
       "    </tr>\n",
       "  </thead>\n",
       "  <tbody>\n",
       "    <tr>\n",
       "      <th>9999</th>\n",
       "      <td>1597394514</td>\n",
       "      <td>1597393397</td>\n",
       "      <td>physiciancareers.kp.org</td>\n",
       "      <td>1597396518</td>\n",
       "      <td>5c38e7ce40437e47127a8280</td>\n",
       "      <td>physiciancareers.kp.org</td>\n",
       "      <td>The Permanente Medical Group</td>\n",
       "      <td>00Q2v00001hQcwGEAS</td>\n",
       "      <td>Debbie Trenor</td>\n",
       "      <td>debbie.trenor@kp.org</td>\n",
       "      <td>4151000</td>\n",
       "      <td>hope.com</td>\n",
       "    </tr>\n",
       "  </tbody>\n",
       "</table>\n",
       "</div>"
      ],
      "text/plain": [
       "      sf_last_modified_at  sf_created_at             website_text  created_at  \\\n",
       "9999           1597394514     1597393397  physiciancareers.kp.org  1597396518   \n",
       "\n",
       "                  zolo_lead_id  sf_lead_company_website  \\\n",
       "9999  5c38e7ce40437e47127a8280  physiciancareers.kp.org   \n",
       "\n",
       "              sf_lead_company_name          sf_lead_id   sf_lead_name  \\\n",
       "9999  The Permanente Medical Group  00Q2v00001hQcwGEAS  Debbie Trenor   \n",
       "\n",
       "             sf_lead_email       id user_account_domain  \n",
       "9999  debbie.trenor@kp.org  4151000            hope.com  "
      ]
     },
     "execution_count": 114,
     "metadata": {},
     "output_type": "execute_result"
    }
   ],
   "source": [
    "dfr.iloc[9999:,1:] # dispaly all columns except 1st column with datetime format of sf_last_modified_at, sf_created_at, created_at"
   ]
  },
  {
   "cell_type": "code",
   "execution_count": 115,
   "id": "fb4b7f94-c500-4dd0-9ec1-77771b7d6913",
   "metadata": {},
   "outputs": [
    {
     "data": {
      "text/plain": [
       "<seaborn.axisgrid.FacetGrid at 0x2b861a379a0>"
      ]
     },
     "execution_count": 115,
     "metadata": {},
     "output_type": "execute_result"
    },
    {
     "data": {
      "image/png": "[encoded data removed]",
      "text/plain": [
       "<Figure size 360x360 with 1 Axes>"
      ]
     },
     "metadata": {
      "needs_background": "light"
     },
     "output_type": "display_data"
    }
   ],
   "source": [
    "sns.catplot(x='sf_last_modified_at',kind='box',data=dfr)"
   ]
  },
  {
   "cell_type": "code",
   "execution_count": 118,
   "id": "4c364520-1ce2-4ef2-a8ee-7787adac5fc3",
   "metadata": {},
   "outputs": [
    {
     "data": {
      "text/html": [
       "<div>\n",
       "<style scoped>\n",
       "    .dataframe tbody tr th:only-of-type {\n",
       "        vertical-align: middle;\n",
       "    }\n",
       "\n",
       "    .dataframe tbody tr th {\n",
       "        vertical-align: top;\n",
       "    }\n",
       "\n",
       "    .dataframe thead th {\n",
       "        text-align: right;\n",
       "    }\n",
       "</style>\n",
       "<table border=\"1\" class=\"dataframe\">\n",
       "  <thead>\n",
       "    <tr style=\"text-align: right;\">\n",
       "      <th></th>\n",
       "      <th>zolo_lead_id</th>\n",
       "      <th>id mean mean</th>\n",
       "      <th>id mean count</th>\n",
       "      <th>id count mean</th>\n",
       "      <th>id count count</th>\n",
       "      <th>sf_last_modified_at_MONTHS mean mean</th>\n",
       "      <th>sf_last_modified_at_MONTHS mean count</th>\n",
       "      <th>sf_last_modified_at_MONTHS count mean</th>\n",
       "      <th>sf_last_modified_at_MONTHS count count</th>\n",
       "      <th>sf_last_modified_at_Years mean mean</th>\n",
       "      <th>...</th>\n",
       "      <th>sf_created_at_months count mean</th>\n",
       "      <th>sf_created_at_months count count</th>\n",
       "      <th>created_at_year mean mean</th>\n",
       "      <th>created_at_year mean count</th>\n",
       "      <th>created_at_year count mean</th>\n",
       "      <th>created_at_year count count</th>\n",
       "      <th>created_at_month mean mean</th>\n",
       "      <th>created_at_month mean count</th>\n",
       "      <th>created_at_month count mean</th>\n",
       "      <th>created_at_month count count</th>\n",
       "    </tr>\n",
       "  </thead>\n",
       "  <tbody>\n",
       "  </tbody>\n",
       "</table>\n",
       "<p>0 rows × 29 columns</p>\n",
       "</div>"
      ],
      "text/plain": [
       "Empty DataFrame\n",
       "Columns: [zolo_lead_id, id mean mean, id mean count, id count mean, id count count, sf_last_modified_at_MONTHS mean mean, sf_last_modified_at_MONTHS mean count, sf_last_modified_at_MONTHS count mean, sf_last_modified_at_MONTHS count count, sf_last_modified_at_Years mean mean, sf_last_modified_at_Years mean count, sf_last_modified_at_Years count mean, sf_last_modified_at_Years count count, sf_created_at_year mean mean, sf_created_at_year mean count, sf_created_at_year count mean, sf_created_at_year count count, sf_created_at_months mean mean, sf_created_at_months mean count, sf_created_at_months count mean, sf_created_at_months count count, created_at_year mean mean, created_at_year mean count, created_at_year count mean, created_at_year count count, created_at_month mean mean, created_at_month mean count, created_at_month count mean, created_at_month count count]\n",
       "Index: []\n",
       "\n",
       "[0 rows x 29 columns]"
      ]
     },
     "execution_count": 118,
     "metadata": {},
     "output_type": "execute_result"
    }
   ],
   "source": [
    "df.iloc[9999:,1:]"
   ]
  },
  {
   "cell_type": "code",
   "execution_count": 120,
   "id": "40d39115-8edc-4359-8d9a-4baa9529a7c3",
   "metadata": {},
   "outputs": [
    {
     "data": {
      "text/html": [
       "<div>\n",
       "<style scoped>\n",
       "    .dataframe tbody tr th:only-of-type {\n",
       "        vertical-align: middle;\n",
       "    }\n",
       "\n",
       "    .dataframe tbody tr th {\n",
       "        vertical-align: top;\n",
       "    }\n",
       "\n",
       "    .dataframe thead th {\n",
       "        text-align: right;\n",
       "    }\n",
       "</style>\n",
       "<table border=\"1\" class=\"dataframe\">\n",
       "  <thead>\n",
       "    <tr style=\"text-align: right;\">\n",
       "      <th></th>\n",
       "      <th>sf_last_modified_at</th>\n",
       "      <th>sf_created_at</th>\n",
       "      <th>website_text</th>\n",
       "      <th>created_at</th>\n",
       "      <th>zolo_lead_id</th>\n",
       "      <th>sf_lead_company_website</th>\n",
       "      <th>sf_lead_company_name</th>\n",
       "      <th>sf_lead_id</th>\n",
       "      <th>sf_lead_name</th>\n",
       "      <th>sf_lead_email</th>\n",
       "      <th>id</th>\n",
       "      <th>user_account_domain</th>\n",
       "    </tr>\n",
       "  </thead>\n",
       "  <tbody>\n",
       "    <tr>\n",
       "      <th>9999</th>\n",
       "      <td>1597394514</td>\n",
       "      <td>1597393397</td>\n",
       "      <td>physiciancareers.kp.org</td>\n",
       "      <td>1597396518</td>\n",
       "      <td>5c38e7ce40437e47127a8280</td>\n",
       "      <td>physiciancareers.kp.org</td>\n",
       "      <td>The Permanente Medical Group</td>\n",
       "      <td>00Q2v00001hQcwGEAS</td>\n",
       "      <td>Debbie Trenor</td>\n",
       "      <td>debbie.trenor@kp.org</td>\n",
       "      <td>4151000</td>\n",
       "      <td>hope.com</td>\n",
       "    </tr>\n",
       "  </tbody>\n",
       "</table>\n",
       "</div>"
      ],
      "text/plain": [
       "      sf_last_modified_at  sf_created_at             website_text  created_at  \\\n",
       "9999           1597394514     1597393397  physiciancareers.kp.org  1597396518   \n",
       "\n",
       "                  zolo_lead_id  sf_lead_company_website  \\\n",
       "9999  5c38e7ce40437e47127a8280  physiciancareers.kp.org   \n",
       "\n",
       "              sf_lead_company_name          sf_lead_id   sf_lead_name  \\\n",
       "9999  The Permanente Medical Group  00Q2v00001hQcwGEAS  Debbie Trenor   \n",
       "\n",
       "             sf_lead_email       id user_account_domain  \n",
       "9999  debbie.trenor@kp.org  4151000            hope.com  "
      ]
     },
     "execution_count": 120,
     "metadata": {},
     "output_type": "execute_result"
    }
   ],
   "source": [
    "dfr.iloc[9999:,1:]"
   ]
  },
  {
   "cell_type": "code",
   "execution_count": 121,
   "id": "deeab0f5-c22f-4e87-85a9-8c21cda9eae7",
   "metadata": {},
   "outputs": [
    {
     "data": {
      "text/plain": [
       "Index(['fields_data', 'sf_last_modified_at', 'sf_created_at', 'website_text',\n",
       "       'created_at', 'zolo_lead_id', 'sf_lead_company_website',\n",
       "       'sf_lead_company_name', 'sf_lead_id', 'sf_lead_name', 'sf_lead_email',\n",
       "       'id', 'user_account_domain'],\n",
       "      dtype='object')"
      ]
     },
     "execution_count": 121,
     "metadata": {},
     "output_type": "execute_result"
    }
   ],
   "source": [
    "dfr.columns"
   ]
  },
  {
   "cell_type": "code",
   "execution_count": 122,
   "id": "b5fcdc89-cc4c-4729-819a-dd20d2d4b377",
   "metadata": {},
   "outputs": [
    {
     "data": {
      "text/plain": [
       "4617"
      ]
     },
     "execution_count": 122,
     "metadata": {},
     "output_type": "execute_result"
    }
   ],
   "source": [
    "dfr['website_text'].nunique()    #unique fields "
   ]
  },
  {
   "cell_type": "code",
   "execution_count": 123,
   "id": "065ee2b0-de15-446b-972b-a74568d8946d",
   "metadata": {},
   "outputs": [
    {
     "data": {
      "text/plain": [
       "2556"
      ]
     },
     "execution_count": 123,
     "metadata": {},
     "output_type": "execute_result"
    }
   ],
   "source": [
    "dfr['zolo_lead_id'].nunique()\n"
   ]
  },
  {
   "cell_type": "code",
   "execution_count": 124,
   "id": "63a342f7-b95b-4c05-b739-6740be3c5430",
   "metadata": {},
   "outputs": [
    {
     "data": {
      "text/plain": [
       "4994"
      ]
     },
     "execution_count": 124,
     "metadata": {},
     "output_type": "execute_result"
    }
   ],
   "source": [
    "dfr['sf_lead_company_website'].nunique()\n"
   ]
  },
  {
   "cell_type": "code",
   "execution_count": 125,
   "id": "128153d0-14fb-4422-a9a9-998a5afaf518",
   "metadata": {},
   "outputs": [
    {
     "data": {
      "text/plain": [
       "6351"
      ]
     },
     "execution_count": 125,
     "metadata": {},
     "output_type": "execute_result"
    }
   ],
   "source": [
    "dfr['sf_lead_company_name'].nunique()\n"
   ]
  },
  {
   "cell_type": "code",
   "execution_count": 126,
   "id": "6951feb7-3598-49c8-9272-b0badf44cb31",
   "metadata": {},
   "outputs": [
    {
     "data": {
      "text/plain": [
       "9557"
      ]
     },
     "execution_count": 126,
     "metadata": {},
     "output_type": "execute_result"
    }
   ],
   "source": [
    "dfr['sf_lead_id'].nunique()\n"
   ]
  },
  {
   "cell_type": "code",
   "execution_count": 127,
   "id": "3f3c5515-dca5-4f97-9f67-2f33b5fc67e1",
   "metadata": {},
   "outputs": [
    {
     "data": {
      "text/plain": [
       "8761"
      ]
     },
     "execution_count": 127,
     "metadata": {},
     "output_type": "execute_result"
    }
   ],
   "source": [
    "dfr['sf_lead_name'].nunique()\n"
   ]
  },
  {
   "cell_type": "code",
   "execution_count": 128,
   "id": "f48ac19a-e3f4-4381-a8de-bae10ceb6d8e",
   "metadata": {},
   "outputs": [
    {
     "data": {
      "text/plain": [
       "5722"
      ]
     },
     "execution_count": 128,
     "metadata": {},
     "output_type": "execute_result"
    }
   ],
   "source": [
    "dfr['sf_lead_email'].nunique()\n"
   ]
  },
  {
   "cell_type": "code",
   "execution_count": 129,
   "id": "e20612ef-a6b6-425b-8d4d-5e983d55226d",
   "metadata": {},
   "outputs": [
    {
     "data": {
      "text/plain": [
       "9966"
      ]
     },
     "execution_count": 129,
     "metadata": {},
     "output_type": "execute_result"
    }
   ],
   "source": [
    "dfr['id'].nunique()\n"
   ]
  },
  {
   "cell_type": "code",
   "execution_count": 130,
   "id": "cd780156-b395-48e9-8665-7d15aba2ddce",
   "metadata": {},
   "outputs": [
    {
     "data": {
      "text/plain": [
       "8"
      ]
     },
     "execution_count": 130,
     "metadata": {},
     "output_type": "execute_result"
    }
   ],
   "source": [
    "dfr['user_account_domain'].nunique()"
   ]
  },
  {
   "cell_type": "code",
   "execution_count": 133,
   "id": "ed319300-0307-43dd-af04-3796b48d2b6f",
   "metadata": {},
   "outputs": [
    {
     "data": {
      "text/plain": [
       "array(['hope.com', 'cloudpathfinderconsulting.com', 'logo.com',\n",
       "       'paradox.ai', 'mailinator.com', 'strategisminc.com',\n",
       "       'placetechnology.com', 'fielo.com'], dtype=object)"
      ]
     },
     "execution_count": 133,
     "metadata": {},
     "output_type": "execute_result"
    }
   ],
   "source": [
    "dfr['user_account_domain'].unique()"
   ]
  },
  {
   "cell_type": "code",
   "execution_count": 132,
   "id": "1fa46c58-63ac-4435-b1a4-f05ab4f5615c",
   "metadata": {},
   "outputs": [
    {
     "data": {
      "text/plain": [
       "<seaborn.axisgrid.PairGrid at 0x2b863319ca0>"
      ]
     },
     "execution_count": 132,
     "metadata": {},
     "output_type": "execute_result"
    },
    {
     "data": {
      "image/png": "[encoded data removed]",
      "text/plain": [
       "<Figure size 720x720 with 20 Axes>"
      ]
     },
     "metadata": {
      "needs_background": "light"
     },
     "output_type": "display_data"
    }
   ],
   "source": [
    "sns.pairplot(dfr)"
   ]
  },
  {
   "cell_type": "code",
   "execution_count": 134,
   "id": "ce257a8e-2283-4469-81bd-5f8831d39b21",
   "metadata": {},
   "outputs": [
    {
     "data": {
      "text/plain": [
       "'{\"AnnualRevenue\": \"\", \"City\": \"\", \"Company\": \"Offerup\", \"ConvertedAccountId\": \"\", \"ConvertedContactId\": \"\", \"ConvertedDate\": \"\", \"ConvertedOpportunityId\": \"\", \"Country\": \"\", \"CreatedById\": \"0052v00000dQKDFAA4\", \"CreatedDate\": \"2020-08-10T09:57:36.000Z\", \"CurrentGenerators_del__c\": \"\", \"Description\": \"\", \"Email\": \"ignacio.izquierdo@offerup.com\", \"EmailBouncedDate\": \"\", \"EmailBouncedReason\": \"\", \"Fax\": \"\", \"FirstName\": \"Ignacio\", \"Id\": \"00Q2v00001gyy2ZEAQ\", \"Industry\": \"\", \"IsConverted\": \"false\", \"IsDeleted\": \"false\", \"IsUnreadByOwner\": \"false\", \"LastActivityDate\": \"\", \"LastModifiedById\": \"0052v00000dQKDFAA4\", \"LastModifiedDate\": \"2020-08-10T10:13:29.000Z\", \"LastName\": \"Izquierdo\", \"LeadSource\": \"\", \"MasterRecordId\": \"\", \"MobilePhone\": \"\", \"Name\": \"Ignacio Izquierdo\", \"NumberOfEmployees\": \"\", \"NumberofLocations_del__c\": \"\", \"OwnerId\": \"0052v00000dQKDFAA4\", \"Phone\": \"\", \"PostalCode\": \"\", \"Primary_del__c\": \"\", \"ProductInterest_del__c\": \"\", \"Rating\": \"\", \"SICCode_del__c\": \"\", \"Salutation\": \"\", \"zoloLeadCity__c\": \"\", \"zolo_Created_By__c\": \"\", \"zolo_Email_Confidence_Score__c\": \"\", \"zolo_Email__c\": \"\", \"zolo_Function__c\": \"\", \"zolo_Lead_City__c\": \"Seattle\", \"zolo_Lead_Company_City__c\": \"Bellevue\", \"zolo_Lead_Company_Country__c\": \"United States\", \"zolo_Lead_Company_Description__c\": \"\", \"zolo_Lead_Company_EBITDA__c\": \"\", \"zolo_Lead_Company_Facebook_Page__c\": \"http://www.facebook.com/offerupnow\", \"zolo_Lead_Company_Fiscal_Year__c\": \"\", \"zolo_Lead_Company_Function__c\": \"Customer Success And Support\", \"zolo_Lead_Company_Funding__c\": \"100m-500m\", \"zolo_Lead_Company_Industry__c\": \"Internet\", \"zolo_Lead_Company_LinkedIn_Page__c\": \"https://www.linkedin.com/company/offerup\", \"zolo_Lead_Company_Name__c\": \"\", \"zolo_Lead_Company_Phone_Number__c\": \"\", \"zolo_Lead_Company_Product_And_Service__c\": \"\", \"zolo_Lead_Company_Revenue__c\": \"<0\", \"zolo_Lead_Company_Sector__c\": \"Technology\", \"zolo_Lead_Company_Size__c\": \"201-500\", \"zolo_Lead_Company_State__c\": \"Washington\", \"zolo_Lead_Company_Technologies__c\": \"Meet,Daily\", \"zolo_Lead_Company_Twitter_Page__c\": \"http://twitter.com/offerup\", \"zolo_Lead_Company_Type__c\": \"Private\", \"zolo_Lead_Country__c\": \"United States\", \"zolo_Lead_Decision_Making_Power__c\": \"Medium\", \"zolo_Lead_Division__c\": \"Customer Success\", \"zolo_Lead_Email_Confidence__c\": \"High\", \"zolo_Lead_Id__c\": \"5db811f786a45530631d9755\", \"zolo_Lead_LinkedIn_Url__c\": \"http://www.linkedin.com/in/ignaizquierdo\", \"zolo_Lead_Phone_Number_del__c\": \"\", \"zolo_Lead_Phone__c\": \"\", \"zolo_Lead_State__c\": \"Washington\", \"zolo_Lead_Title__c\": \"\", \"zolo_Website_del__c\": \"\", \"zolo_del__c\": \"\", \"State\": \"\", \"Status\": \"Open - Not Contacted\", \"Street\": \"\", \"SystemModstamp\": \"2020-08-10T10:13:29.000Z\", \"Technologies__c\": \"\", \"Title\": \"Account Manager\", \"Website\": \"offerup.com\", \"website_text\": \"offerup.com\"}'"
      ]
     },
     "execution_count": 134,
     "metadata": {},
     "output_type": "execute_result"
    }
   ],
   "source": [
    "Fields_data[0]"
   ]
  },
  {
   "cell_type": "code",
   "execution_count": 135,
   "id": "2b4976be-6019-4cb1-abc7-94f37e86037a",
   "metadata": {},
   "outputs": [
    {
     "data": {
      "text/plain": [
       "user_account_domain            zolo_lead_id            \n",
       "cloudpathfinderconsulting.com  5c6d4f3340437e6a42787f66    1\n",
       "                               5c8524247c866626ae63c3aa    1\n",
       "                               5c8524f07c866626b06511ed    1\n",
       "                               5cd934075b9b3d9b67bddbfa    1\n",
       "                               5cd9363c5b9b3d9c2d416a84    1\n",
       "                                                          ..\n",
       "placetechnology.com            5e4cf7b34251c04f4953a0ad    2\n",
       "                               5e4cf7d09b31921b522531fe    2\n",
       "strategisminc.com              5e4cfc691d392e2943553bf3    2\n",
       "                               5e4cfc78fa65bd0e5bf16bf9    1\n",
       "                               5ebb8dae0100d806686821e1    1\n",
       "Length: 2652, dtype: int64"
      ]
     },
     "execution_count": 135,
     "metadata": {},
     "output_type": "execute_result"
    }
   ],
   "source": [
    "dfr.groupby(['user_account_domain','zolo_lead_id']).size()"
   ]
  },
  {
   "cell_type": "code",
   "execution_count": 139,
   "id": "58434fe0-b7ff-4479-83a0-5cce911a709d",
   "metadata": {},
   "outputs": [
    {
     "data": {
      "text/plain": [
       "Index(['fields_data', 'sf_last_modified_at', 'sf_created_at', 'website_text',\n",
       "       'created_at', 'zolo_lead_id', 'sf_lead_company_website',\n",
       "       'sf_lead_company_name', 'sf_lead_id', 'sf_lead_name', 'sf_lead_email',\n",
       "       'id', 'user_account_domain'],\n",
       "      dtype='object')"
      ]
     },
     "execution_count": 139,
     "metadata": {},
     "output_type": "execute_result"
    }
   ],
   "source": [
    "dfr.columns"
   ]
  },
  {
   "cell_type": "code",
   "execution_count": 140,
   "id": "a927b5f6-0744-4ff2-aa5e-9bf877846276",
   "metadata": {},
   "outputs": [
    {
     "data": {
      "text/plain": [
       "website_text    zolo_lead_id            \n",
       "10pearls.com    5d4909e87e66624778211441    1\n",
       "2.deloitte.com  5d4d082d128078a572caa65d    1\n",
       "                5d4d082f128078a572cbbb7b    1\n",
       "                5da8347278eaa65fa7e81c6e    1\n",
       "                5ebb8c8cd5b68b26be040032    1\n",
       "                                           ..\n",
       "zspace.com      5ebb8cf5671e8a25855f5048    1\n",
       "zumper.com      5e4cf8054251c04f495d2776    1\n",
       "zuora.com       5e4cf81f4251c04f4960a9ab    1\n",
       "zycada.com      5db0028cb8a5739cfcfc6022    1\n",
       "zywave.com      5e4cf7b1e9e42b37acaa3ab6    1\n",
       "Length: 2399, dtype: int64"
      ]
     },
     "execution_count": 140,
     "metadata": {},
     "output_type": "execute_result"
    }
   ],
   "source": [
    "dfr.groupby(['website_text','zolo_lead_id']).size()"
   ]
  },
  {
   "cell_type": "code",
   "execution_count": 142,
   "id": "5f3047fc-e03d-4194-83a0-6d7a2bbfe00e",
   "metadata": {},
   "outputs": [
    {
     "data": {
      "text/html": [
       "<div>\n",
       "<style scoped>\n",
       "    .dataframe tbody tr th:only-of-type {\n",
       "        vertical-align: middle;\n",
       "    }\n",
       "\n",
       "    .dataframe tbody tr th {\n",
       "        vertical-align: top;\n",
       "    }\n",
       "\n",
       "    .dataframe thead th {\n",
       "        text-align: right;\n",
       "    }\n",
       "</style>\n",
       "<table border=\"1\" class=\"dataframe\">\n",
       "  <thead>\n",
       "    <tr style=\"text-align: right;\">\n",
       "      <th></th>\n",
       "      <th></th>\n",
       "      <th>fields_data</th>\n",
       "      <th>sf_last_modified_at</th>\n",
       "      <th>sf_created_at</th>\n",
       "      <th>created_at</th>\n",
       "      <th>sf_lead_company_website</th>\n",
       "      <th>sf_lead_company_name</th>\n",
       "      <th>sf_lead_id</th>\n",
       "      <th>sf_lead_name</th>\n",
       "      <th>sf_lead_email</th>\n",
       "      <th>id</th>\n",
       "      <th>user_account_domain</th>\n",
       "    </tr>\n",
       "    <tr>\n",
       "      <th>website_text</th>\n",
       "      <th>zolo_lead_id</th>\n",
       "      <th></th>\n",
       "      <th></th>\n",
       "      <th></th>\n",
       "      <th></th>\n",
       "      <th></th>\n",
       "      <th></th>\n",
       "      <th></th>\n",
       "      <th></th>\n",
       "      <th></th>\n",
       "      <th></th>\n",
       "      <th></th>\n",
       "    </tr>\n",
       "  </thead>\n",
       "  <tbody>\n",
       "    <tr>\n",
       "      <th>10pearls.com</th>\n",
       "      <th>5d4909e87e66624778211441</th>\n",
       "      <td>1</td>\n",
       "      <td>1</td>\n",
       "      <td>1</td>\n",
       "      <td>1</td>\n",
       "      <td>1</td>\n",
       "      <td>1</td>\n",
       "      <td>1</td>\n",
       "      <td>1</td>\n",
       "      <td>1</td>\n",
       "      <td>1</td>\n",
       "      <td>1</td>\n",
       "    </tr>\n",
       "    <tr>\n",
       "      <th rowspan=\"4\" valign=\"top\">2.deloitte.com</th>\n",
       "      <th>5d4d082d128078a572caa65d</th>\n",
       "      <td>1</td>\n",
       "      <td>1</td>\n",
       "      <td>1</td>\n",
       "      <td>1</td>\n",
       "      <td>1</td>\n",
       "      <td>1</td>\n",
       "      <td>1</td>\n",
       "      <td>1</td>\n",
       "      <td>1</td>\n",
       "      <td>1</td>\n",
       "      <td>1</td>\n",
       "    </tr>\n",
       "    <tr>\n",
       "      <th>5d4d082f128078a572cbbb7b</th>\n",
       "      <td>1</td>\n",
       "      <td>1</td>\n",
       "      <td>1</td>\n",
       "      <td>1</td>\n",
       "      <td>1</td>\n",
       "      <td>1</td>\n",
       "      <td>1</td>\n",
       "      <td>1</td>\n",
       "      <td>1</td>\n",
       "      <td>1</td>\n",
       "      <td>1</td>\n",
       "    </tr>\n",
       "    <tr>\n",
       "      <th>5da8347278eaa65fa7e81c6e</th>\n",
       "      <td>1</td>\n",
       "      <td>1</td>\n",
       "      <td>1</td>\n",
       "      <td>1</td>\n",
       "      <td>1</td>\n",
       "      <td>1</td>\n",
       "      <td>1</td>\n",
       "      <td>1</td>\n",
       "      <td>1</td>\n",
       "      <td>1</td>\n",
       "      <td>1</td>\n",
       "    </tr>\n",
       "    <tr>\n",
       "      <th>5ebb8c8cd5b68b26be040032</th>\n",
       "      <td>1</td>\n",
       "      <td>1</td>\n",
       "      <td>1</td>\n",
       "      <td>1</td>\n",
       "      <td>1</td>\n",
       "      <td>1</td>\n",
       "      <td>1</td>\n",
       "      <td>1</td>\n",
       "      <td>1</td>\n",
       "      <td>1</td>\n",
       "      <td>1</td>\n",
       "    </tr>\n",
       "    <tr>\n",
       "      <th>...</th>\n",
       "      <th>...</th>\n",
       "      <td>...</td>\n",
       "      <td>...</td>\n",
       "      <td>...</td>\n",
       "      <td>...</td>\n",
       "      <td>...</td>\n",
       "      <td>...</td>\n",
       "      <td>...</td>\n",
       "      <td>...</td>\n",
       "      <td>...</td>\n",
       "      <td>...</td>\n",
       "      <td>...</td>\n",
       "    </tr>\n",
       "    <tr>\n",
       "      <th>zspace.com</th>\n",
       "      <th>5ebb8cf5671e8a25855f5048</th>\n",
       "      <td>1</td>\n",
       "      <td>1</td>\n",
       "      <td>1</td>\n",
       "      <td>1</td>\n",
       "      <td>1</td>\n",
       "      <td>1</td>\n",
       "      <td>1</td>\n",
       "      <td>1</td>\n",
       "      <td>1</td>\n",
       "      <td>1</td>\n",
       "      <td>1</td>\n",
       "    </tr>\n",
       "    <tr>\n",
       "      <th>zumper.com</th>\n",
       "      <th>5e4cf8054251c04f495d2776</th>\n",
       "      <td>1</td>\n",
       "      <td>1</td>\n",
       "      <td>1</td>\n",
       "      <td>1</td>\n",
       "      <td>1</td>\n",
       "      <td>1</td>\n",
       "      <td>1</td>\n",
       "      <td>1</td>\n",
       "      <td>1</td>\n",
       "      <td>1</td>\n",
       "      <td>1</td>\n",
       "    </tr>\n",
       "    <tr>\n",
       "      <th>zuora.com</th>\n",
       "      <th>5e4cf81f4251c04f4960a9ab</th>\n",
       "      <td>1</td>\n",
       "      <td>1</td>\n",
       "      <td>1</td>\n",
       "      <td>1</td>\n",
       "      <td>1</td>\n",
       "      <td>1</td>\n",
       "      <td>1</td>\n",
       "      <td>1</td>\n",
       "      <td>1</td>\n",
       "      <td>1</td>\n",
       "      <td>1</td>\n",
       "    </tr>\n",
       "    <tr>\n",
       "      <th>zycada.com</th>\n",
       "      <th>5db0028cb8a5739cfcfc6022</th>\n",
       "      <td>1</td>\n",
       "      <td>1</td>\n",
       "      <td>1</td>\n",
       "      <td>1</td>\n",
       "      <td>1</td>\n",
       "      <td>1</td>\n",
       "      <td>1</td>\n",
       "      <td>1</td>\n",
       "      <td>1</td>\n",
       "      <td>1</td>\n",
       "      <td>1</td>\n",
       "    </tr>\n",
       "    <tr>\n",
       "      <th>zywave.com</th>\n",
       "      <th>5e4cf7b1e9e42b37acaa3ab6</th>\n",
       "      <td>1</td>\n",
       "      <td>1</td>\n",
       "      <td>1</td>\n",
       "      <td>1</td>\n",
       "      <td>1</td>\n",
       "      <td>1</td>\n",
       "      <td>1</td>\n",
       "      <td>1</td>\n",
       "      <td>1</td>\n",
       "      <td>1</td>\n",
       "      <td>1</td>\n",
       "    </tr>\n",
       "  </tbody>\n",
       "</table>\n",
       "<p>2399 rows × 11 columns</p>\n",
       "</div>"
      ],
      "text/plain": [
       "                                         fields_data  sf_last_modified_at  \\\n",
       "website_text   zolo_lead_id                                                 \n",
       "10pearls.com   5d4909e87e66624778211441            1                    1   \n",
       "2.deloitte.com 5d4d082d128078a572caa65d            1                    1   \n",
       "               5d4d082f128078a572cbbb7b            1                    1   \n",
       "               5da8347278eaa65fa7e81c6e            1                    1   \n",
       "               5ebb8c8cd5b68b26be040032            1                    1   \n",
       "...                                              ...                  ...   \n",
       "zspace.com     5ebb8cf5671e8a25855f5048            1                    1   \n",
       "zumper.com     5e4cf8054251c04f495d2776            1                    1   \n",
       "zuora.com      5e4cf81f4251c04f4960a9ab            1                    1   \n",
       "zycada.com     5db0028cb8a5739cfcfc6022            1                    1   \n",
       "zywave.com     5e4cf7b1e9e42b37acaa3ab6            1                    1   \n",
       "\n",
       "                                         sf_created_at  created_at  \\\n",
       "website_text   zolo_lead_id                                          \n",
       "10pearls.com   5d4909e87e66624778211441              1           1   \n",
       "2.deloitte.com 5d4d082d128078a572caa65d              1           1   \n",
       "               5d4d082f128078a572cbbb7b              1           1   \n",
       "               5da8347278eaa65fa7e81c6e              1           1   \n",
       "               5ebb8c8cd5b68b26be040032              1           1   \n",
       "...                                                ...         ...   \n",
       "zspace.com     5ebb8cf5671e8a25855f5048              1           1   \n",
       "zumper.com     5e4cf8054251c04f495d2776              1           1   \n",
       "zuora.com      5e4cf81f4251c04f4960a9ab              1           1   \n",
       "zycada.com     5db0028cb8a5739cfcfc6022              1           1   \n",
       "zywave.com     5e4cf7b1e9e42b37acaa3ab6              1           1   \n",
       "\n",
       "                                         sf_lead_company_website  \\\n",
       "website_text   zolo_lead_id                                        \n",
       "10pearls.com   5d4909e87e66624778211441                        1   \n",
       "2.deloitte.com 5d4d082d128078a572caa65d                        1   \n",
       "               5d4d082f128078a572cbbb7b                        1   \n",
       "               5da8347278eaa65fa7e81c6e                        1   \n",
       "               5ebb8c8cd5b68b26be040032                        1   \n",
       "...                                                          ...   \n",
       "zspace.com     5ebb8cf5671e8a25855f5048                        1   \n",
       "zumper.com     5e4cf8054251c04f495d2776                        1   \n",
       "zuora.com      5e4cf81f4251c04f4960a9ab                        1   \n",
       "zycada.com     5db0028cb8a5739cfcfc6022                        1   \n",
       "zywave.com     5e4cf7b1e9e42b37acaa3ab6                        1   \n",
       "\n",
       "                                         sf_lead_company_name  sf_lead_id  \\\n",
       "website_text   zolo_lead_id                                                 \n",
       "10pearls.com   5d4909e87e66624778211441                     1           1   \n",
       "2.deloitte.com 5d4d082d128078a572caa65d                     1           1   \n",
       "               5d4d082f128078a572cbbb7b                     1           1   \n",
       "               5da8347278eaa65fa7e81c6e                     1           1   \n",
       "               5ebb8c8cd5b68b26be040032                     1           1   \n",
       "...                                                       ...         ...   \n",
       "zspace.com     5ebb8cf5671e8a25855f5048                     1           1   \n",
       "zumper.com     5e4cf8054251c04f495d2776                     1           1   \n",
       "zuora.com      5e4cf81f4251c04f4960a9ab                     1           1   \n",
       "zycada.com     5db0028cb8a5739cfcfc6022                     1           1   \n",
       "zywave.com     5e4cf7b1e9e42b37acaa3ab6                     1           1   \n",
       "\n",
       "                                         sf_lead_name  sf_lead_email  id  \\\n",
       "website_text   zolo_lead_id                                                \n",
       "10pearls.com   5d4909e87e66624778211441             1              1   1   \n",
       "2.deloitte.com 5d4d082d128078a572caa65d             1              1   1   \n",
       "               5d4d082f128078a572cbbb7b             1              1   1   \n",
       "               5da8347278eaa65fa7e81c6e             1              1   1   \n",
       "               5ebb8c8cd5b68b26be040032             1              1   1   \n",
       "...                                               ...            ...  ..   \n",
       "zspace.com     5ebb8cf5671e8a25855f5048             1              1   1   \n",
       "zumper.com     5e4cf8054251c04f495d2776             1              1   1   \n",
       "zuora.com      5e4cf81f4251c04f4960a9ab             1              1   1   \n",
       "zycada.com     5db0028cb8a5739cfcfc6022             1              1   1   \n",
       "zywave.com     5e4cf7b1e9e42b37acaa3ab6             1              1   1   \n",
       "\n",
       "                                         user_account_domain  \n",
       "website_text   zolo_lead_id                                   \n",
       "10pearls.com   5d4909e87e66624778211441                    1  \n",
       "2.deloitte.com 5d4d082d128078a572caa65d                    1  \n",
       "               5d4d082f128078a572cbbb7b                    1  \n",
       "               5da8347278eaa65fa7e81c6e                    1  \n",
       "               5ebb8c8cd5b68b26be040032                    1  \n",
       "...                                                      ...  \n",
       "zspace.com     5ebb8cf5671e8a25855f5048                    1  \n",
       "zumper.com     5e4cf8054251c04f495d2776                    1  \n",
       "zuora.com      5e4cf81f4251c04f4960a9ab                    1  \n",
       "zycada.com     5db0028cb8a5739cfcfc6022                    1  \n",
       "zywave.com     5e4cf7b1e9e42b37acaa3ab6                    1  \n",
       "\n",
       "[2399 rows x 11 columns]"
      ]
     },
     "execution_count": 142,
     "metadata": {},
     "output_type": "execute_result"
    }
   ],
   "source": [
    "dfr.groupby(['website_text','zolo_lead_id']).count()"
   ]
  },
  {
   "cell_type": "code",
   "execution_count": 146,
   "id": "983a18d9-bc30-4238-ac50-c6c84f6f46b6",
   "metadata": {},
   "outputs": [
    {
     "data": {
      "text/html": [
       "<div>\n",
       "<style scoped>\n",
       "    .dataframe tbody tr th:only-of-type {\n",
       "        vertical-align: middle;\n",
       "    }\n",
       "\n",
       "    .dataframe tbody tr th {\n",
       "        vertical-align: top;\n",
       "    }\n",
       "\n",
       "    .dataframe thead th {\n",
       "        text-align: right;\n",
       "    }\n",
       "</style>\n",
       "<table border=\"1\" class=\"dataframe\">\n",
       "  <thead>\n",
       "    <tr style=\"text-align: right;\">\n",
       "      <th></th>\n",
       "      <th>fields_data</th>\n",
       "      <th>sf_last_modified_at</th>\n",
       "      <th>sf_created_at</th>\n",
       "      <th>created_at</th>\n",
       "      <th>zolo_lead_id</th>\n",
       "      <th>sf_lead_company_website</th>\n",
       "      <th>sf_lead_company_name</th>\n",
       "      <th>sf_lead_id</th>\n",
       "      <th>sf_lead_name</th>\n",
       "      <th>sf_lead_email</th>\n",
       "      <th>id</th>\n",
       "      <th>user_account_domain</th>\n",
       "    </tr>\n",
       "    <tr>\n",
       "      <th>website_text</th>\n",
       "      <th></th>\n",
       "      <th></th>\n",
       "      <th></th>\n",
       "      <th></th>\n",
       "      <th></th>\n",
       "      <th></th>\n",
       "      <th></th>\n",
       "      <th></th>\n",
       "      <th></th>\n",
       "      <th></th>\n",
       "      <th></th>\n",
       "      <th></th>\n",
       "    </tr>\n",
       "  </thead>\n",
       "  <tbody>\n",
       "    <tr>\n",
       "      <th>1010data.com</th>\n",
       "      <td>1</td>\n",
       "      <td>1</td>\n",
       "      <td>1</td>\n",
       "      <td>1</td>\n",
       "      <td>0</td>\n",
       "      <td>1</td>\n",
       "      <td>1</td>\n",
       "      <td>1</td>\n",
       "      <td>1</td>\n",
       "      <td>0</td>\n",
       "      <td>1</td>\n",
       "      <td>1</td>\n",
       "    </tr>\n",
       "    <tr>\n",
       "      <th>10eqs.com</th>\n",
       "      <td>1</td>\n",
       "      <td>1</td>\n",
       "      <td>1</td>\n",
       "      <td>1</td>\n",
       "      <td>0</td>\n",
       "      <td>1</td>\n",
       "      <td>1</td>\n",
       "      <td>1</td>\n",
       "      <td>1</td>\n",
       "      <td>0</td>\n",
       "      <td>1</td>\n",
       "      <td>1</td>\n",
       "    </tr>\n",
       "    <tr>\n",
       "      <th>10pearls.com</th>\n",
       "      <td>1</td>\n",
       "      <td>1</td>\n",
       "      <td>1</td>\n",
       "      <td>1</td>\n",
       "      <td>1</td>\n",
       "      <td>1</td>\n",
       "      <td>1</td>\n",
       "      <td>1</td>\n",
       "      <td>1</td>\n",
       "      <td>1</td>\n",
       "      <td>1</td>\n",
       "      <td>1</td>\n",
       "    </tr>\n",
       "    <tr>\n",
       "      <th>128technology.com</th>\n",
       "      <td>3</td>\n",
       "      <td>3</td>\n",
       "      <td>3</td>\n",
       "      <td>3</td>\n",
       "      <td>0</td>\n",
       "      <td>3</td>\n",
       "      <td>3</td>\n",
       "      <td>3</td>\n",
       "      <td>3</td>\n",
       "      <td>0</td>\n",
       "      <td>3</td>\n",
       "      <td>3</td>\n",
       "    </tr>\n",
       "    <tr>\n",
       "      <th>15five.com</th>\n",
       "      <td>2</td>\n",
       "      <td>2</td>\n",
       "      <td>2</td>\n",
       "      <td>2</td>\n",
       "      <td>0</td>\n",
       "      <td>2</td>\n",
       "      <td>2</td>\n",
       "      <td>2</td>\n",
       "      <td>2</td>\n",
       "      <td>0</td>\n",
       "      <td>2</td>\n",
       "      <td>2</td>\n",
       "    </tr>\n",
       "    <tr>\n",
       "      <th>...</th>\n",
       "      <td>...</td>\n",
       "      <td>...</td>\n",
       "      <td>...</td>\n",
       "      <td>...</td>\n",
       "      <td>...</td>\n",
       "      <td>...</td>\n",
       "      <td>...</td>\n",
       "      <td>...</td>\n",
       "      <td>...</td>\n",
       "      <td>...</td>\n",
       "      <td>...</td>\n",
       "      <td>...</td>\n",
       "    </tr>\n",
       "    <tr>\n",
       "      <th>zuora.com</th>\n",
       "      <td>1</td>\n",
       "      <td>1</td>\n",
       "      <td>1</td>\n",
       "      <td>1</td>\n",
       "      <td>1</td>\n",
       "      <td>1</td>\n",
       "      <td>1</td>\n",
       "      <td>1</td>\n",
       "      <td>1</td>\n",
       "      <td>1</td>\n",
       "      <td>1</td>\n",
       "      <td>1</td>\n",
       "    </tr>\n",
       "    <tr>\n",
       "      <th>zycada.com</th>\n",
       "      <td>2</td>\n",
       "      <td>2</td>\n",
       "      <td>2</td>\n",
       "      <td>2</td>\n",
       "      <td>1</td>\n",
       "      <td>2</td>\n",
       "      <td>2</td>\n",
       "      <td>2</td>\n",
       "      <td>2</td>\n",
       "      <td>1</td>\n",
       "      <td>2</td>\n",
       "      <td>2</td>\n",
       "    </tr>\n",
       "    <tr>\n",
       "      <th>zylotech.com</th>\n",
       "      <td>2</td>\n",
       "      <td>2</td>\n",
       "      <td>2</td>\n",
       "      <td>2</td>\n",
       "      <td>0</td>\n",
       "      <td>2</td>\n",
       "      <td>2</td>\n",
       "      <td>2</td>\n",
       "      <td>2</td>\n",
       "      <td>1</td>\n",
       "      <td>2</td>\n",
       "      <td>2</td>\n",
       "    </tr>\n",
       "    <tr>\n",
       "      <th>zynbit.com</th>\n",
       "      <td>2</td>\n",
       "      <td>2</td>\n",
       "      <td>2</td>\n",
       "      <td>2</td>\n",
       "      <td>0</td>\n",
       "      <td>2</td>\n",
       "      <td>2</td>\n",
       "      <td>2</td>\n",
       "      <td>2</td>\n",
       "      <td>0</td>\n",
       "      <td>2</td>\n",
       "      <td>2</td>\n",
       "    </tr>\n",
       "    <tr>\n",
       "      <th>zywave.com</th>\n",
       "      <td>1</td>\n",
       "      <td>1</td>\n",
       "      <td>1</td>\n",
       "      <td>1</td>\n",
       "      <td>1</td>\n",
       "      <td>1</td>\n",
       "      <td>1</td>\n",
       "      <td>1</td>\n",
       "      <td>1</td>\n",
       "      <td>1</td>\n",
       "      <td>1</td>\n",
       "      <td>1</td>\n",
       "    </tr>\n",
       "  </tbody>\n",
       "</table>\n",
       "<p>4617 rows × 12 columns</p>\n",
       "</div>"
      ],
      "text/plain": [
       "                   fields_data  sf_last_modified_at  sf_created_at  \\\n",
       "website_text                                                         \n",
       "1010data.com                 1                    1              1   \n",
       "10eqs.com                    1                    1              1   \n",
       "10pearls.com                 1                    1              1   \n",
       "128technology.com            3                    3              3   \n",
       "15five.com                   2                    2              2   \n",
       "...                        ...                  ...            ...   \n",
       "zuora.com                    1                    1              1   \n",
       "zycada.com                   2                    2              2   \n",
       "zylotech.com                 2                    2              2   \n",
       "zynbit.com                   2                    2              2   \n",
       "zywave.com                   1                    1              1   \n",
       "\n",
       "                   created_at  zolo_lead_id  sf_lead_company_website  \\\n",
       "website_text                                                           \n",
       "1010data.com                1             0                        1   \n",
       "10eqs.com                   1             0                        1   \n",
       "10pearls.com                1             1                        1   \n",
       "128technology.com           3             0                        3   \n",
       "15five.com                  2             0                        2   \n",
       "...                       ...           ...                      ...   \n",
       "zuora.com                   1             1                        1   \n",
       "zycada.com                  2             1                        2   \n",
       "zylotech.com                2             0                        2   \n",
       "zynbit.com                  2             0                        2   \n",
       "zywave.com                  1             1                        1   \n",
       "\n",
       "                   sf_lead_company_name  sf_lead_id  sf_lead_name  \\\n",
       "website_text                                                        \n",
       "1010data.com                          1           1             1   \n",
       "10eqs.com                             1           1             1   \n",
       "10pearls.com                          1           1             1   \n",
       "128technology.com                     3           3             3   \n",
       "15five.com                            2           2             2   \n",
       "...                                 ...         ...           ...   \n",
       "zuora.com                             1           1             1   \n",
       "zycada.com                            2           2             2   \n",
       "zylotech.com                          2           2             2   \n",
       "zynbit.com                            2           2             2   \n",
       "zywave.com                            1           1             1   \n",
       "\n",
       "                   sf_lead_email  id  user_account_domain  \n",
       "website_text                                               \n",
       "1010data.com                   0   1                    1  \n",
       "10eqs.com                      0   1                    1  \n",
       "10pearls.com                   1   1                    1  \n",
       "128technology.com              0   3                    3  \n",
       "15five.com                     0   2                    2  \n",
       "...                          ...  ..                  ...  \n",
       "zuora.com                      1   1                    1  \n",
       "zycada.com                     1   2                    2  \n",
       "zylotech.com                   1   2                    2  \n",
       "zynbit.com                     0   2                    2  \n",
       "zywave.com                     1   1                    1  \n",
       "\n",
       "[4617 rows x 12 columns]"
      ]
     },
     "execution_count": 146,
     "metadata": {},
     "output_type": "execute_result"
    }
   ],
   "source": [
    "dfr.groupby(['website_text']).count()"
   ]
  },
  {
   "cell_type": "code",
   "execution_count": 149,
   "id": "473cc743-ba9f-4709-83e4-93f2b80fd453",
   "metadata": {},
   "outputs": [
    {
     "data": {
      "text/html": [
       "<div>\n",
       "<style scoped>\n",
       "    .dataframe tbody tr th:only-of-type {\n",
       "        vertical-align: middle;\n",
       "    }\n",
       "\n",
       "    .dataframe tbody tr th {\n",
       "        vertical-align: top;\n",
       "    }\n",
       "\n",
       "    .dataframe thead th {\n",
       "        text-align: right;\n",
       "    }\n",
       "</style>\n",
       "<table border=\"1\" class=\"dataframe\">\n",
       "  <thead>\n",
       "    <tr style=\"text-align: right;\">\n",
       "      <th></th>\n",
       "      <th>fields_data</th>\n",
       "    </tr>\n",
       "  </thead>\n",
       "  <tbody>\n",
       "    <tr>\n",
       "      <th>0</th>\n",
       "      <td>{\"AnnualRevenue\": \"\", \"City\": \"\", \"Company\": \"...</td>\n",
       "    </tr>\n",
       "  </tbody>\n",
       "</table>\n",
       "</div>"
      ],
      "text/plain": [
       "                                         fields_data\n",
       "0  {\"AnnualRevenue\": \"\", \"City\": \"\", \"Company\": \"..."
      ]
     },
     "execution_count": 149,
     "metadata": {},
     "output_type": "execute_result"
    }
   ],
   "source": [
    "dfr.iloc[:1,:1]"
   ]
  },
  {
   "cell_type": "code",
   "execution_count": 151,
   "id": "b1f8ccc8-be06-4f2a-8c8a-09dbf2fabd4d",
   "metadata": {},
   "outputs": [],
   "source": [
    "dic=dfr.iloc[:,:1]"
   ]
  },
  {
   "cell_type": "code",
   "execution_count": 153,
   "id": "ff56eaff-49ff-4fe7-8f98-f5a571db597e",
   "metadata": {},
   "outputs": [
    {
     "data": {
      "text/plain": [
       "fields_data    object\n",
       "dtype: object"
      ]
     },
     "execution_count": 153,
     "metadata": {},
     "output_type": "execute_result"
    }
   ],
   "source": [
    "dic.dtypes"
   ]
  },
  {
   "cell_type": "code",
   "execution_count": 159,
   "id": "0e56b560-4368-4c7f-ac35-9e68fa933200",
   "metadata": {},
   "outputs": [],
   "source": [
    "d=dict(dic['fields_data'])"
   ]
  },
  {
   "cell_type": "code",
   "execution_count": 169,
   "id": "7d754710-59be-409c-80be-7b952c049d7e",
   "metadata": {},
   "outputs": [],
   "source": [
    "dict_x = {key:val for key, val in d.items() if val!= ''}  # to check null values"
   ]
  },
  {
   "cell_type": "code",
   "execution_count": null,
   "id": "085623b1-fcfa-4e66-b06b-0efd94cbf611",
   "metadata": {},
   "outputs": [],
   "source": []
  },
  {
   "cell_type": "code",
   "execution_count": null,
   "id": "592bd7c6-86fd-4416-869a-66015dcf8068",
   "metadata": {},
   "outputs": [],
   "source": []
  },
  {
   "cell_type": "code",
   "execution_count": null,
   "id": "4292efdc-c097-4202-b6c5-2b44e732dee6",
   "metadata": {},
   "outputs": [],
   "source": []
  }
 ],
 "metadata": {
  "kernelspec": {
   "display_name": "Python 3",
   "language": "python",
   "name": "python3"
  },
  "language_info": {
   "codemirror_mode": {
    "name": "ipython",
    "version": 3
   },
   "file_extension": ".py",
   "mimetype": "text/x-python",
   "name": "python",
   "nbconvert_exporter": "python",
   "pygments_lexer": "ipython3",
   "version": "3.8.8"
  }
 },
 "nbformat": 4,
 "nbformat_minor": 5
}
